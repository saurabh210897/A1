{
 "cells": [
  {
   "cell_type": "code",
   "execution_count": 5,
   "id": "b2f5b380-bd09-406e-a482-65e6f18e3da7",
   "metadata": {},
   "outputs": [],
   "source": [
    "#Q1 how devloped python progrsming language?"
   ]
  },
  {
   "cell_type": "code",
   "execution_count": 6,
   "id": "aafc7590-3b7d-4389-8784-66ac01007c45",
   "metadata": {},
   "outputs": [],
   "source": [
    "# Python programming language was developed by Guido van Rossum in the late 1980s"
   ]
  },
  {
   "cell_type": "code",
   "execution_count": 7,
   "id": "6d29bd3c-0286-46c0-a0d9-ea7f55db956b",
   "metadata": {},
   "outputs": [],
   "source": [
    "#Q2 wich type of programming does python support?"
   ]
  },
  {
   "cell_type": "code",
   "execution_count": 8,
   "id": "cc28d571-c344-417a-8974-6fa5c0cc1f22",
   "metadata": {},
   "outputs": [],
   "source": [
    "# Python is a general-purpose programming language that supports a wide range of programming paradigms, including:\n",
    "# Procedural programming\n",
    "# Object-oriented programming\n",
    "# Functional programming\n",
    "# Event-driven programming\n",
    "# Metaprogramming"
   ]
  },
  {
   "cell_type": "code",
   "execution_count": 9,
   "id": "446e616a-eeb9-4691-a75a-fb0154b16e04",
   "metadata": {},
   "outputs": [],
   "source": [
    "#Q3 Is python case sensitivity when dealing with identifilters?"
   ]
  },
  {
   "cell_type": "code",
   "execution_count": 10,
   "id": "6f718cac-2f34-4915-8a22-24df3099b585",
   "metadata": {},
   "outputs": [],
   "source": [
    "# Yes, Python is case sensitive when it comes to identifiers such as variable names, function names, class names, and module names."
   ]
  },
  {
   "cell_type": "code",
   "execution_count": 11,
   "id": "fcfb7bfb-7a27-4bcd-8bf8-948858379d62",
   "metadata": {},
   "outputs": [],
   "source": [
    "#Q4 what is the correct extension of python file?"
   ]
  },
  {
   "cell_type": "code",
   "execution_count": 12,
   "id": "ddf4fe6d-db4a-4317-ba68-fd0c0a86f3fd",
   "metadata": {},
   "outputs": [],
   "source": [
    "# The correct extension for Python files is \".py\". When you save a Python script, you should save it with a file name \n",
    "# that ends with \".py\". For example, if you have a script called \"hello_world.py\", you would save it as \"hello_world.py\". \n",
    "# This is important because when you run the script, the Python interpreter looks \n",
    "# for files with the \".py\" extension to determine which files contain Python code."
   ]
  },
  {
   "cell_type": "code",
   "execution_count": 13,
   "id": "1af28708-1a38-40d4-ba63-ae2a4633938d",
   "metadata": {},
   "outputs": [],
   "source": [
    "#Q5 Is python code compiled or interpreted?"
   ]
  },
  {
   "cell_type": "code",
   "execution_count": 15,
   "id": "43568891-c635-4d6e-ae9d-2703e645ffb4",
   "metadata": {},
   "outputs": [],
   "source": [
    "# # Python is an interpreted language. When you run a Python program, the Python interpreter reads and executes the code directly, \n",
    "# # without first compiling it into machine code. This means that you can write and run Python code without having to go through \n",
    "# # a separate compilation step.\n",
    "\n",
    "# However, Python does have a compilation step that occurs behind the scenes. When you import a module or run a script, \n",
    "# the Python interpreter compiles the code into bytecode, which is a lower-level representation of the code that can be executed more efficiently\n",
    "# than the original source code. This bytecode is then executed by the interpreter, which translates it into machine code that can be executed by\n",
    "# the computer's processor.\n",
    "\n",
    "# So, while Python is technically an interpreted language, it does include a compilation step as part of its execution process."
   ]
  },
  {
   "cell_type": "code",
   "execution_count": 16,
   "id": "4485c551-e1bf-4c5f-a140-979cd79174ec",
   "metadata": {},
   "outputs": [],
   "source": [
    "#Q6 Name a few blocks of code used to define in python language?"
   ]
  },
  {
   "cell_type": "code",
   "execution_count": 17,
   "id": "1116cb36-d965-4c60-ab8b-d2edb77a98db",
   "metadata": {},
   "outputs": [],
   "source": [
    "# # In Python, you can define various blocks of code using indentation. Here are some of the commonly used blocks of code:\n",
    "\n",
    "# 1 Function Definition Block: A function is defined using the \"def\" keyword followed by the function name and the parameters.\n",
    "# The block of code inside the function is indented under the function definition line.\n",
    "\n",
    "# # Example:\n",
    "\n",
    "# # def add_numbers(num1, num2):\n",
    "# #     sum = num1 + num2\n",
    "# #     return sum\n",
    "\n",
    "# 2 Conditional Block: Conditional statements such as \"if-else\" and \"if-elif-else\" are defined using the if, elif, and else \n",
    "# keywords followed by a condition. The block of code that needs to be executed if the condition is true is indented under \n",
    "# the corresponding keyword line.\n",
    "\n",
    "# # Example:\n",
    "\n",
    "# # if a > b:\n",
    "# #     print(\"a is greater than b\")\n",
    "# # else:\n",
    "# #     print(\"b is greater than or equal to a\")\n",
    "\n",
    "# 3 Loop Block: Loops such as \"for\" loop and \"while\" loop are defined using the for and while keywords followed by a condition. \n",
    "# The block of code that needs to be executed in each iteration of the loop is indented under the loop definition line.\n",
    "\n",
    "# # Example\n",
    "\n",
    "# # for i in range(1, 11):\n",
    "# #     print(i)\n",
    "\n",
    "# # while i < 10:\n",
    "# #     print(i)\n",
    "# #     i += 1\n",
    "\n",
    "# 4 Class Definition Block: A \"class\" is defined using the class keyword followed by the class name. \n",
    "# The block of code that defines the methods and properties of the class is indented under the class definition line.\n",
    "\n",
    "# # Example:\n",
    "\n",
    "# #     def __init__(self, name, age):\n",
    "# #         self.name = name\n",
    "# #         self.age = age\n",
    "# #     def greet(self):\n",
    "# #         print(\"Hello, my name is\", self.name, \"and I am\", self.age, \"years old.\")"
   ]
  },
  {
   "cell_type": "code",
   "execution_count": 18,
   "id": "e32e703b-131c-4615-92d7-b63606bdc0f7",
   "metadata": {},
   "outputs": [],
   "source": [
    "#Q7 state the character used to give single line comments in python?"
   ]
  },
  {
   "cell_type": "code",
   "execution_count": 19,
   "id": "aa0686cd-3b6e-4a22-a502-0a957c051d28",
   "metadata": {},
   "outputs": [],
   "source": [
    "# In Python, the character used to give single line comments is the hash symbol (#). \n",
    "# Any text that follows a hash symbol on a line is considered a comment and is ignored by the Python interpreter."
   ]
  },
  {
   "cell_type": "code",
   "execution_count": 20,
   "id": "df4b43e8-95f8-4e75-b314-6417d1b2d8e0",
   "metadata": {},
   "outputs": [],
   "source": [
    "#Q8 mention the functions which can help us to find the version of python that we are currently working on?"
   ]
  },
  {
   "cell_type": "code",
   "execution_count": 24,
   "id": "2c3f1346-f4af-4228-8b96-9e26ac583604",
   "metadata": {},
   "outputs": [
    {
     "name": "stdout",
     "output_type": "stream",
     "text": [
      "Python version: 3.10.8 | packaged by conda-forge | (main, Nov 22 2022, 08:26:04) [GCC 10.4.0]\n"
     ]
    }
   ],
   "source": [
    "# There are several functions in Python that can help us find the version of Python we are currently working on. Here are a few of them:\n",
    "\n",
    "#  1 sys module: The sys module provides information about the Python interpreter and the system it's running on. \n",
    "# The sys.version attribute returns a string containing the version number of the Python interpreter.\n",
    "import sys\n",
    "\n",
    "print(\"Python version:\", sys.version)"
   ]
  },
  {
   "cell_type": "code",
   "execution_count": 25,
   "id": "3361d168-8a87-40cc-93b3-d2bcea4b6f4b",
   "metadata": {},
   "outputs": [
    {
     "name": "stdout",
     "output_type": "stream",
     "text": [
      "Python version: 3.10.8\n"
     ]
    }
   ],
   "source": [
    "# 2 platform module: The platform module provides a way to retrieve and display information about the underlying platform. \n",
    "# The platform.python_version() function returns a string containing the version number of the Python interpreter.\n",
    "\n",
    "import platform\n",
    "\n",
    "print(\"Python version:\", platform.python_version())"
   ]
  },
  {
   "cell_type": "code",
   "execution_count": 29,
   "id": "7f10dc5e-73bc-4ee3-b670-bf5554fc6b7d",
   "metadata": {},
   "outputs": [],
   "source": [
    "#Q9 python supports the creation of anonymous functions at runtime , using a construct called ______?"
   ]
  },
  {
   "cell_type": "code",
   "execution_count": 32,
   "id": "301cdecd-2957-4aef-a430-13760fa4e202",
   "metadata": {},
   "outputs": [],
   "source": [
    "# Python supports the creation of anonymous functions at runtime using a construct called \"lambda\".\n",
    "\n",
    "# The lambda function is a small anonymous function that can have any number of arguments, but can only have one expression. \n",
    "# It is defined using the keyword lambda, followed by the arguments and the expression separated by a colon. \n",
    "# Here's the syntax for defining a lambda function:\n",
    "\n",
    "# lambda arguments: expression\n",
    "\n",
    "# For example, the following code defines a lambda function that takes two arguments and returns their sum:\n",
    "\n",
    " #sum = lambda x, y: x + y\n",
    " #print(sum(3, 4)) # Output: 7\n",
    "\n",
    "# In this example, lambda x, y: x + y creates an anonymous function that takes two arguments x and y, and returns their sum. \n",
    "# The function is assigned to the variable sum, which can then be called like a regular function.\n",
    "\n",
    "# Lambda functions are often used as arguments to higher-order functions, such as map(), filter(), and reduce(). \n",
    "# They can also be used as a concise way to define simple functions without giving them a name."
   ]
  },
  {
   "cell_type": "code",
   "execution_count": 33,
   "id": "65c0879e-a5b5-4fdb-81a5-ca032508a521",
   "metadata": {},
   "outputs": [],
   "source": [
    "#Q10 what does pip stand for python?"
   ]
  },
  {
   "cell_type": "code",
   "execution_count": 34,
   "id": "ebfe38f6-a613-4504-9b09-0394d8416067",
   "metadata": {},
   "outputs": [],
   "source": [
    "# PIP stands for \"Pip Installs Packages\" (or \"Pip Installs Python\").\n",
    "\n",
    "# PIP is a package manager for Python that makes it easy to install and manage third-party packages and libraries \n",
    "# that are not included in the Python Standard Library. With PIP, you can easily install, upgrade, \n",
    "# and remove Python packages and their dependencies from the command line.\n",
    "\n",
    "# PIP is included with Python versions 3.4 and later, but if you're using an earlier version of Python, you may need to install it separately. \n",
    "# Once PIP is installed, you can use it to install packages by running a command like pip install package_name"
   ]
  },
  {
   "cell_type": "code",
   "execution_count": 35,
   "id": "41b74882-b679-45d9-89d1-ae071b294379",
   "metadata": {},
   "outputs": [],
   "source": [
    "#Q11 mention few built in function in python?"
   ]
  },
  {
   "cell_type": "code",
   "execution_count": 36,
   "id": "e617f917-3d51-43a8-a91b-02cd482e445e",
   "metadata": {},
   "outputs": [],
   "source": [
    "# Here are a few commonly used built-in functions in Python:\n",
    "\n",
    "#1 print(): Prints the specified message to the console.\n",
    "\n",
    "#2 input(): Accepts input from the user via the console.\n",
    "\n",
    "#3 len(): Returns the length of the specified string, list, or other sequence.\n",
    "\n",
    "#4 range(): Generates a sequence of numbers within a specified range.\n",
    "\n",
    "#5 type(): Returns the type of the specified object.\n",
    "\n",
    "#6 int(): Converts a specified value into an integer.\n",
    "\n",
    "#7 float(): Converts a specified value into a floating-point number.\n",
    "\n",
    "#8 str(): Converts a specified value into a string.\n",
    "\n",
    "#9 bool(): Converts a specified value into a Boolean value.\n",
    "\n",
    "#10 list(): Creates a list containing the specified items.\n",
    "\n",
    "#11 dict(): Creates a dictionary containing the specified key-value pairs.\n",
    "\n",
    "#12 set(): Creates a set containing the specified items.\n",
    "\n",
    "#13 tuple(): Creates a tuple containing the specified items.\n",
    "\n",
    "#14 These are just a few examples of the many built-in functions in Python."
   ]
  },
  {
   "cell_type": "code",
   "execution_count": 37,
   "id": "90201b06-156d-404e-bd77-c7d7568eeccd",
   "metadata": {},
   "outputs": [],
   "source": [
    "#Q12 what is the maximum possible length of an identifire in python?"
   ]
  },
  {
   "cell_type": "code",
   "execution_count": 38,
   "id": "d3fa385e-cd0f-4226-b08b-326cf2dc91f5",
   "metadata": {},
   "outputs": [],
   "source": [
    "# In Python, the maximum length of an identifier (variable name, function name, class name, etc.) is not explicitly defined. \n",
    "# However, according to the Python documentation, it is recommended to keep the identifier length to be less than or equal to 79 characters.\n",
    "\n",
    "# This recommendation is based on the common convention of limiting the line length in Python code to 79 characters \n",
    "# for better readability and maintainability. Since long identifier names can make code harder to read, \n",
    "# it's generally a good practice to keep identifier names as short and descriptive as possible while still conveying their purpose."
   ]
  },
  {
   "cell_type": "code",
   "execution_count": 39,
   "id": "efe3032d-932d-401e-947d-9a108f559d7f",
   "metadata": {},
   "outputs": [],
   "source": [
    "#Q13 what are the benefits of using python?"
   ]
  },
  {
   "cell_type": "code",
   "execution_count": 41,
   "id": "9d8e7bec-12f4-47e4-88d1-936bf7106858",
   "metadata": {},
   "outputs": [],
   "source": [
    "# Python is a popular, versatile, and easy-to-learn programming language that can be used for a wide range of applications. \n",
    "# Here are some benefits of using Python:\n",
    "\n",
    "# Easy to learn: Python has a simple and straightforward syntax that makes it easy to read and write code. \n",
    "# This makes it an ideal language for beginners to learn.\n",
    "\n",
    "# Large and active community: Python has a large and active community of developers who contribute to its development and maintenance. \n",
    "# This means that there are a lot of resources and libraries available for Python, making it easy to find help and get started on projects.\n",
    "\n",
    "# Cross-platform compatibility: Python is a cross-platform language, which means that it can run on a variety of operating systems, \n",
    "# including Windows, Linux, and macOS.\n",
    "\n",
    "# Wide range of applications: Python can be used for a wide range of applications, from web development to data analysis, machine learning, \n",
    "# artificial intelligence, scientific computing, and more.\n",
    "\n",
    "# Excellent libraries and frameworks: Python has a rich collection of libraries and frameworks that make it easy to perform complex tasks, \n",
    "# such as data analysis and visualization, web development, and machine learning.\n",
    "\n",
    "# High productivity: Python allows developers to write code quickly and efficiently, which can help speed up development time and increase productivity\n",
    "\n",
    "# Strong community support: Python has a strong and supportive community of developers who contribute to its development and maintenance. \n",
    "# This means that there are always new updates, bug fixes, and features being added to the language.\n",
    "\n",
    "# Overall, Python's simplicity, versatility, and community support make it an excellent choice for a wide range of applications"
   ]
  },
  {
   "cell_type": "code",
   "execution_count": 42,
   "id": "207a988b-2233-4b66-80da-f86178b53e7d",
   "metadata": {},
   "outputs": [],
   "source": [
    "#Q14 how is memory managed in python?"
   ]
  },
  {
   "cell_type": "code",
   "execution_count": 43,
   "id": "a3f9db7b-0516-406c-b04a-5153f09b06ee",
   "metadata": {},
   "outputs": [],
   "source": [
    "# In Python, memory management is done automatically by a built-in mechanism called the Python Memory Manager. \n",
    "# The memory manager handles the allocation and deallocation of memory for Python objects during program execution.\n",
    "\n",
    "# Python uses a technique called reference counting to keep track of objects in memory. \n",
    "# Each object in Python has a reference count that keeps track of how many variables or data structures refer to it. \n",
    "# When the reference count of an object drops to zero, it is no longer being used and its memory is automatically deallocated.\n",
    "\n",
    "# Python also has a garbage collector that periodically runs to find and clean up objects that are no longer being used. \n",
    "# This helps to prevent memory leaks and ensures that the memory used by your program is efficiently managed.\n",
    "\n",
    "# In addition, Python provides a mechanism for managing memory manually using the \"ctypes\" module.\n",
    "# This allows you to allocate and deallocate memory directly, which can be useful \n",
    "# for working with low-level data structures or interacting with other programming languages.\n",
    "\n",
    "# Overall, Python's automatic memory management system makes it easy to write code without worrying too much about memory allocation and deallocation. \n",
    "# However, it is still important to understand the basics of how memory management works in order to write efficient and robust code."
   ]
  },
  {
   "cell_type": "code",
   "execution_count": 44,
   "id": "8653e020-9cc4-485e-8993-d4ae2ed504d3",
   "metadata": {},
   "outputs": [],
   "source": [
    "#Q15 how to install python on windows and set path variables?"
   ]
  },
  {
   "cell_type": "code",
   "execution_count": 45,
   "id": "b024d01b-daa0-4206-9f27-d0c0c99d3048",
   "metadata": {},
   "outputs": [],
   "source": [
    "\n",
    "# Once the download is complete, run the installer.\n",
    "\n",
    "# On the first page of the installer, make sure that \"Add Python to PATH\" is selected, then click \"Install Now.\"\n",
    "\n",
    "# Wait for the installation to complete. This should take only a few minutes.\n",
    "\n",
    "# Once the installation is complete, you can verify that Python is installed by opening a Command Prompt window and typing \"python\" without the quotes.\n",
    "# If Python is installed correctly, you should see the Python interpreter prompt (\">>>\") in the Command Prompt window.\n",
    "\n",
    "# Setting Path Variables:\n",
    "\n",
    "# Open the Start menu and search for \"Environment Variables.\"\n",
    "\n",
    "# Click on \"Edit the system environment variables.\"\n",
    "\n",
    "# Click on the \"Environment Variables\" button.\n",
    "\n",
    "# Under \"System Variables,\" scroll down and find the \"Path\" variable, then click \"Edit.\"\n",
    "\n",
    "# Click \"New\" and add the directory where Python was installed (usually C:\\PythonXX, where XX is the version number) to the list of directories in \n",
    "# the \"Path\" variable. Make sure to separate each directory with a semicolon.\n",
    "\n",
    "# Click \"OK\" on all the windows to close them.\n",
    "\n",
    "# Open a new Command Prompt window and type \"python\" without the quotes. If everything is set up correctly, \n",
    "# you should see the Python interpreter prompt (\">>>\") in the Command Prompt window.Installing Python on Windows:\n",
    "\n",
    "# Go to the Python download page at https://www.python.org/downloads/windows/ and download the latest stable version of Python for Windows.\n"
   ]
  },
  {
   "cell_type": "code",
   "execution_count": 46,
   "id": "e2b1532d-a661-49d5-8a64-206297fc17bd",
   "metadata": {},
   "outputs": [],
   "source": [
    "#Q15 Is identation is required in python?"
   ]
  },
  {
   "cell_type": "code",
   "execution_count": null,
   "id": "12682aaa-c2a0-445c-bc58-a057093563c5",
   "metadata": {},
   "outputs": [],
   "source": [
    "# Yes, indentation is required in Python. Python uses indentation to delimit blocks of code, which means that the indentation \n",
    "# level of a line determines its grouping with other lines of code.\n",
    "\n",
    "# In Python, blocks of code are defined by their indentation level, rather than using curly braces or other delimiters like other programming languages. \n",
    "# Therefore, if you don't use indentation properly, you can run into syntax errors and other unexpected behaviors in your code.\n",
    "\n",
    "# Here is an example of how indentation is used in Python:\n",
    "\n",
    "# if x > 0:\n",
    "#     print(\"x is positive\")\n",
    "# else:\n",
    "#     print(\"x is not positive\")\n",
    "# In this example, the two print statements are indented to show that they are part of the if and else blocks, respectively. \n",
    "# If you were to remove the indentation, you would get a syntax error.\n",
    "\n",
    "# In summary, indentation is an essential part of Python syntax and must be used correctly to ensure that your code runs properly."
   ]
  }
 ],
 "metadata": {
  "kernelspec": {
   "display_name": "Python 3 (ipykernel)",
   "language": "python",
   "name": "python3"
  },
  "language_info": {
   "codemirror_mode": {
    "name": "ipython",
    "version": 3
   },
   "file_extension": ".py",
   "mimetype": "text/x-python",
   "name": "python",
   "nbconvert_exporter": "python",
   "pygments_lexer": "ipython3",
   "version": "3.10.8"
  }
 },
 "nbformat": 4,
 "nbformat_minor": 5
}
